{
 "cells": [
  {
   "cell_type": "code",
   "execution_count": 1,
   "id": "fc8f53e9",
   "metadata": {},
   "outputs": [],
   "source": [
    "# libraries\n",
    "\n",
    "import tensorflow as tf\n",
    "\n",
    "from tensorflow.keras.layers import Input, Lambda, Dense, Flatten, Conv2D\n",
    "from tensorflow.keras.models import Model\n",
    "from tensorflow.keras.applications.vgg19 import VGG19\n",
    "from tensorflow.keras.applications.resnet50 import preprocess_input\n",
    "from tensorflow.keras.preprocessing import image\n",
    "from tensorflow.keras.preprocessing.image import ImageDataGenerator, load_img\n",
    "from tensorflow.keras.models import Sequential\n",
    "\n",
    "import numpy as np\n",
    "from glob import glob\n",
    "\n",
    "import matplotlib.pyplot as plt"
   ]
  },
  {
   "cell_type": "code",
   "execution_count": 2,
   "id": "5a2047a1",
   "metadata": {},
   "outputs": [],
   "source": [
    "# e-size all the images to [224,224]\n",
    "\n",
    "IMAGE_SIZE = [224, 224]\n",
    "\n",
    "train_path = 'Dataset/Train'\n",
    "valid_path = 'Dataset/Test'"
   ]
  },
  {
   "cell_type": "code",
   "execution_count": 3,
   "id": "da644355",
   "metadata": {},
   "outputs": [],
   "source": [
    "vgg19 = VGG19(input_shape = IMAGE_SIZE + [3], weights = 'imagenet', include_top = False)\n"
   ]
  },
  {
   "cell_type": "code",
   "execution_count": 4,
   "id": "91b9b33b",
   "metadata": {},
   "outputs": [
    {
     "name": "stdout",
     "output_type": "stream",
     "text": [
      "Model: \"vgg19\"\n",
      "_________________________________________________________________\n",
      "Layer (type)                 Output Shape              Param #   \n",
      "=================================================================\n",
      "input_1 (InputLayer)         [(None, 224, 224, 3)]     0         \n",
      "_________________________________________________________________\n",
      "block1_conv1 (Conv2D)        (None, 224, 224, 64)      1792      \n",
      "_________________________________________________________________\n",
      "block1_conv2 (Conv2D)        (None, 224, 224, 64)      36928     \n",
      "_________________________________________________________________\n",
      "block1_pool (MaxPooling2D)   (None, 112, 112, 64)      0         \n",
      "_________________________________________________________________\n",
      "block2_conv1 (Conv2D)        (None, 112, 112, 128)     73856     \n",
      "_________________________________________________________________\n",
      "block2_conv2 (Conv2D)        (None, 112, 112, 128)     147584    \n",
      "_________________________________________________________________\n",
      "block2_pool (MaxPooling2D)   (None, 56, 56, 128)       0         \n",
      "_________________________________________________________________\n",
      "block3_conv1 (Conv2D)        (None, 56, 56, 256)       295168    \n",
      "_________________________________________________________________\n",
      "block3_conv2 (Conv2D)        (None, 56, 56, 256)       590080    \n",
      "_________________________________________________________________\n",
      "block3_conv3 (Conv2D)        (None, 56, 56, 256)       590080    \n",
      "_________________________________________________________________\n",
      "block3_conv4 (Conv2D)        (None, 56, 56, 256)       590080    \n",
      "_________________________________________________________________\n",
      "block3_pool (MaxPooling2D)   (None, 28, 28, 256)       0         \n",
      "_________________________________________________________________\n",
      "block4_conv1 (Conv2D)        (None, 28, 28, 512)       1180160   \n",
      "_________________________________________________________________\n",
      "block4_conv2 (Conv2D)        (None, 28, 28, 512)       2359808   \n",
      "_________________________________________________________________\n",
      "block4_conv3 (Conv2D)        (None, 28, 28, 512)       2359808   \n",
      "_________________________________________________________________\n",
      "block4_conv4 (Conv2D)        (None, 28, 28, 512)       2359808   \n",
      "_________________________________________________________________\n",
      "block4_pool (MaxPooling2D)   (None, 14, 14, 512)       0         \n",
      "_________________________________________________________________\n",
      "block5_conv1 (Conv2D)        (None, 14, 14, 512)       2359808   \n",
      "_________________________________________________________________\n",
      "block5_conv2 (Conv2D)        (None, 14, 14, 512)       2359808   \n",
      "_________________________________________________________________\n",
      "block5_conv3 (Conv2D)        (None, 14, 14, 512)       2359808   \n",
      "_________________________________________________________________\n",
      "block5_conv4 (Conv2D)        (None, 14, 14, 512)       2359808   \n",
      "_________________________________________________________________\n",
      "block5_pool (MaxPooling2D)   (None, 7, 7, 512)         0         \n",
      "=================================================================\n",
      "Total params: 20,024,384\n",
      "Trainable params: 20,024,384\n",
      "Non-trainable params: 0\n",
      "_________________________________________________________________\n"
     ]
    }
   ],
   "source": [
    "vgg19.summary()"
   ]
  },
  {
   "cell_type": "code",
   "execution_count": 5,
   "id": "221a2759",
   "metadata": {},
   "outputs": [],
   "source": [
    "for layer in vgg19.layers :\n",
    "    layer.trainable = False"
   ]
  },
  {
   "cell_type": "code",
   "execution_count": 6,
   "id": "8a33ce50",
   "metadata": {},
   "outputs": [
    {
     "data": {
      "text/plain": [
       "['Dataset/Train/Parasite', 'Dataset/Train/Uninfected']"
      ]
     },
     "execution_count": 6,
     "metadata": {},
     "output_type": "execute_result"
    }
   ],
   "source": [
    "# number of output classes\n",
    "\n",
    "folders = glob('Dataset/Train/*')\n",
    "\n",
    "folders"
   ]
  },
  {
   "cell_type": "code",
   "execution_count": 7,
   "id": "c96bd608",
   "metadata": {},
   "outputs": [],
   "source": [
    "x = Flatten()(vgg19.output)"
   ]
  },
  {
   "cell_type": "code",
   "execution_count": 8,
   "id": "2955e20d",
   "metadata": {},
   "outputs": [],
   "source": [
    "prediction = Dense(len(folders), activation = 'softmax')(x)"
   ]
  },
  {
   "cell_type": "code",
   "execution_count": 9,
   "id": "18d82b2d",
   "metadata": {},
   "outputs": [],
   "source": [
    "# create a model object\n",
    "\n",
    "model = Model(inputs = vgg19.input, outputs = prediction)"
   ]
  },
  {
   "cell_type": "code",
   "execution_count": 10,
   "id": "064c924f",
   "metadata": {},
   "outputs": [
    {
     "name": "stdout",
     "output_type": "stream",
     "text": [
      "Model: \"model\"\n",
      "_________________________________________________________________\n",
      "Layer (type)                 Output Shape              Param #   \n",
      "=================================================================\n",
      "input_1 (InputLayer)         [(None, 224, 224, 3)]     0         \n",
      "_________________________________________________________________\n",
      "block1_conv1 (Conv2D)        (None, 224, 224, 64)      1792      \n",
      "_________________________________________________________________\n",
      "block1_conv2 (Conv2D)        (None, 224, 224, 64)      36928     \n",
      "_________________________________________________________________\n",
      "block1_pool (MaxPooling2D)   (None, 112, 112, 64)      0         \n",
      "_________________________________________________________________\n",
      "block2_conv1 (Conv2D)        (None, 112, 112, 128)     73856     \n",
      "_________________________________________________________________\n",
      "block2_conv2 (Conv2D)        (None, 112, 112, 128)     147584    \n",
      "_________________________________________________________________\n",
      "block2_pool (MaxPooling2D)   (None, 56, 56, 128)       0         \n",
      "_________________________________________________________________\n",
      "block3_conv1 (Conv2D)        (None, 56, 56, 256)       295168    \n",
      "_________________________________________________________________\n",
      "block3_conv2 (Conv2D)        (None, 56, 56, 256)       590080    \n",
      "_________________________________________________________________\n",
      "block3_conv3 (Conv2D)        (None, 56, 56, 256)       590080    \n",
      "_________________________________________________________________\n",
      "block3_conv4 (Conv2D)        (None, 56, 56, 256)       590080    \n",
      "_________________________________________________________________\n",
      "block3_pool (MaxPooling2D)   (None, 28, 28, 256)       0         \n",
      "_________________________________________________________________\n",
      "block4_conv1 (Conv2D)        (None, 28, 28, 512)       1180160   \n",
      "_________________________________________________________________\n",
      "block4_conv2 (Conv2D)        (None, 28, 28, 512)       2359808   \n",
      "_________________________________________________________________\n",
      "block4_conv3 (Conv2D)        (None, 28, 28, 512)       2359808   \n",
      "_________________________________________________________________\n",
      "block4_conv4 (Conv2D)        (None, 28, 28, 512)       2359808   \n",
      "_________________________________________________________________\n",
      "block4_pool (MaxPooling2D)   (None, 14, 14, 512)       0         \n",
      "_________________________________________________________________\n",
      "block5_conv1 (Conv2D)        (None, 14, 14, 512)       2359808   \n",
      "_________________________________________________________________\n",
      "block5_conv2 (Conv2D)        (None, 14, 14, 512)       2359808   \n",
      "_________________________________________________________________\n",
      "block5_conv3 (Conv2D)        (None, 14, 14, 512)       2359808   \n",
      "_________________________________________________________________\n",
      "block5_conv4 (Conv2D)        (None, 14, 14, 512)       2359808   \n",
      "_________________________________________________________________\n",
      "block5_pool (MaxPooling2D)   (None, 7, 7, 512)         0         \n",
      "_________________________________________________________________\n",
      "flatten (Flatten)            (None, 25088)             0         \n",
      "_________________________________________________________________\n",
      "dense (Dense)                (None, 2)                 50178     \n",
      "=================================================================\n",
      "Total params: 20,074,562\n",
      "Trainable params: 50,178\n",
      "Non-trainable params: 20,024,384\n",
      "_________________________________________________________________\n"
     ]
    }
   ],
   "source": [
    "model.summary()"
   ]
  },
  {
   "cell_type": "code",
   "execution_count": 13,
   "id": "66e88f23",
   "metadata": {},
   "outputs": [],
   "source": [
    "# Create Model from scratch using CNN\n",
    "\n",
    "from tensorflow.keras.layers import MaxPooling2D\n",
    "\n",
    "model=Sequential()\n",
    "model.add(Conv2D(filters=16,kernel_size=2,padding=\"same\",activation=\"relu\",input_shape=(224,224,3)))\n",
    "model.add(MaxPooling2D(pool_size=2))\n",
    "model.add(Conv2D(filters=32,kernel_size=2,padding=\"same\",activation =\"relu\"))\n",
    "model.add(MaxPooling2D(pool_size=2))\n",
    "model.add(Conv2D(filters=64,kernel_size=2,padding=\"same\",activation=\"relu\"))\n",
    "model.add(MaxPooling2D(pool_size=2))\n",
    "model.add(Flatten())\n",
    "model.add(Dense(500,activation=\"relu\"))\n",
    "model.add(Dense(2,activation=\"softmax\"))"
   ]
  },
  {
   "cell_type": "code",
   "execution_count": 14,
   "id": "b97928d9",
   "metadata": {},
   "outputs": [
    {
     "name": "stdout",
     "output_type": "stream",
     "text": [
      "Model: \"sequential\"\n",
      "_________________________________________________________________\n",
      "Layer (type)                 Output Shape              Param #   \n",
      "=================================================================\n",
      "conv2d (Conv2D)              (None, 224, 224, 16)      208       \n",
      "_________________________________________________________________\n",
      "max_pooling2d (MaxPooling2D) (None, 112, 112, 16)      0         \n",
      "_________________________________________________________________\n",
      "conv2d_1 (Conv2D)            (None, 112, 112, 32)      2080      \n",
      "_________________________________________________________________\n",
      "max_pooling2d_1 (MaxPooling2 (None, 56, 56, 32)        0         \n",
      "_________________________________________________________________\n",
      "conv2d_2 (Conv2D)            (None, 56, 56, 64)        8256      \n",
      "_________________________________________________________________\n",
      "max_pooling2d_2 (MaxPooling2 (None, 28, 28, 64)        0         \n",
      "_________________________________________________________________\n",
      "flatten_1 (Flatten)          (None, 50176)             0         \n",
      "_________________________________________________________________\n",
      "dense_1 (Dense)              (None, 500)               25088500  \n",
      "_________________________________________________________________\n",
      "dense_2 (Dense)              (None, 2)                 1002      \n",
      "=================================================================\n",
      "Total params: 25,100,046\n",
      "Trainable params: 25,100,046\n",
      "Non-trainable params: 0\n",
      "_________________________________________________________________\n"
     ]
    }
   ],
   "source": [
    "model.summary()"
   ]
  },
  {
   "cell_type": "code",
   "execution_count": 11,
   "id": "fc50b14e",
   "metadata": {},
   "outputs": [],
   "source": [
    "# tell the model what cost and optimization method to use\n",
    "model.compile(\n",
    "  loss='categorical_crossentropy',\n",
    "  optimizer='adam',\n",
    "  metrics=['accuracy']\n",
    ")"
   ]
  },
  {
   "cell_type": "code",
   "execution_count": 12,
   "id": "85c80303",
   "metadata": {},
   "outputs": [],
   "source": [
    "# Use the Image Data Generator to import the images from the dataset\n",
    "from tensorflow.keras.preprocessing.image import ImageDataGenerator\n",
    "\n",
    "train_datagen = ImageDataGenerator(rescale = 1./255,\n",
    "                                   shear_range = 0.2,\n",
    "                                   zoom_range = 0.2,\n",
    "                                   horizontal_flip = True)\n",
    "\n",
    "test_datagen = ImageDataGenerator(rescale = 1./255)"
   ]
  },
  {
   "cell_type": "code",
   "execution_count": 13,
   "id": "8433a90b",
   "metadata": {},
   "outputs": [
    {
     "name": "stdout",
     "output_type": "stream",
     "text": [
      "Found 416 images belonging to 2 classes.\n"
     ]
    }
   ],
   "source": [
    "# Make sure you provide the same target size as initialied for the image size\n",
    "training_set = train_datagen.flow_from_directory('Dataset/Train',\n",
    "                                                 target_size = (224, 224),\n",
    "                                                 batch_size = 32,\n",
    "                                                 class_mode = 'categorical')"
   ]
  },
  {
   "cell_type": "code",
   "execution_count": 14,
   "id": "c6cb84c2",
   "metadata": {},
   "outputs": [
    {
     "data": {
      "text/plain": [
       "<tensorflow.python.keras.preprocessing.image.DirectoryIterator at 0x7f79780daa90>"
      ]
     },
     "execution_count": 14,
     "metadata": {},
     "output_type": "execute_result"
    }
   ],
   "source": [
    "training_set"
   ]
  },
  {
   "cell_type": "code",
   "execution_count": 15,
   "id": "68c12166",
   "metadata": {},
   "outputs": [
    {
     "name": "stdout",
     "output_type": "stream",
     "text": [
      "Found 134 images belonging to 2 classes.\n"
     ]
    }
   ],
   "source": [
    "test_set = test_datagen.flow_from_directory('Dataset/Test',\n",
    "                                            target_size = (224, 224),\n",
    "                                            batch_size = 32,\n",
    "                                            class_mode = 'categorical')"
   ]
  },
  {
   "cell_type": "code",
   "execution_count": 16,
   "id": "84423703",
   "metadata": {},
   "outputs": [
    {
     "name": "stderr",
     "output_type": "stream",
     "text": [
      "/home/yuvanshankar/.conda/envs/malaria_detection/lib/python3.8/site-packages/tensorflow/python/keras/engine/training.py:1844: UserWarning: `Model.fit_generator` is deprecated and will be removed in a future version. Please use `Model.fit`, which supports generators.\n",
      "  warnings.warn('`Model.fit_generator` is deprecated and '\n"
     ]
    },
    {
     "name": "stdout",
     "output_type": "stream",
     "text": [
      "Epoch 1/50\n",
      "13/13 [==============================] - 125s 10s/step - loss: 1.6756 - accuracy: 0.5307 - val_loss: 0.8432 - val_accuracy: 0.6791\n",
      "Epoch 2/50\n",
      "13/13 [==============================] - 140s 11s/step - loss: 0.7951 - accuracy: 0.6180 - val_loss: 0.6701 - val_accuracy: 0.6269\n",
      "Epoch 3/50\n",
      "13/13 [==============================] - 141s 11s/step - loss: 0.3854 - accuracy: 0.8301 - val_loss: 0.4505 - val_accuracy: 0.7761\n",
      "Epoch 4/50\n",
      "13/13 [==============================] - 145s 11s/step - loss: 0.3348 - accuracy: 0.8671 - val_loss: 0.4101 - val_accuracy: 0.8433\n",
      "Epoch 5/50\n",
      "13/13 [==============================] - 245s 20s/step - loss: 0.3180 - accuracy: 0.8475 - val_loss: 0.4170 - val_accuracy: 0.8582\n",
      "Epoch 6/50\n",
      "13/13 [==============================] - 139s 11s/step - loss: 0.3308 - accuracy: 0.8580 - val_loss: 0.4633 - val_accuracy: 0.7313\n",
      "Epoch 7/50\n",
      "13/13 [==============================] - 130s 10s/step - loss: 0.3005 - accuracy: 0.8684 - val_loss: 0.3841 - val_accuracy: 0.8433\n",
      "Epoch 8/50\n",
      "13/13 [==============================] - 129s 10s/step - loss: 0.2204 - accuracy: 0.9328 - val_loss: 0.3969 - val_accuracy: 0.7761\n",
      "Epoch 9/50\n",
      "13/13 [==============================] - 133s 10s/step - loss: 0.2768 - accuracy: 0.8687 - val_loss: 0.4086 - val_accuracy: 0.7761\n",
      "Epoch 10/50\n",
      "13/13 [==============================] - 134s 10s/step - loss: 0.2026 - accuracy: 0.9262 - val_loss: 0.3711 - val_accuracy: 0.8209\n",
      "Epoch 11/50\n",
      "13/13 [==============================] - 133s 10s/step - loss: 0.2053 - accuracy: 0.9263 - val_loss: 0.2884 - val_accuracy: 0.9328\n",
      "Epoch 12/50\n",
      "13/13 [==============================] - 130s 10s/step - loss: 0.1976 - accuracy: 0.9372 - val_loss: 0.4065 - val_accuracy: 0.7612\n",
      "Epoch 13/50\n",
      "13/13 [==============================] - 126s 10s/step - loss: 0.2200 - accuracy: 0.9221 - val_loss: 0.3029 - val_accuracy: 0.8955\n",
      "Epoch 14/50\n",
      "13/13 [==============================] - 125s 10s/step - loss: 0.1602 - accuracy: 0.9367 - val_loss: 0.3817 - val_accuracy: 0.7612\n",
      "Epoch 15/50\n",
      "13/13 [==============================] - 124s 10s/step - loss: 0.2139 - accuracy: 0.9218 - val_loss: 0.3148 - val_accuracy: 0.8582\n",
      "Epoch 16/50\n",
      "13/13 [==============================] - 126s 10s/step - loss: 0.2076 - accuracy: 0.9140 - val_loss: 0.2436 - val_accuracy: 0.9328\n",
      "Epoch 17/50\n",
      "13/13 [==============================] - 123s 10s/step - loss: 0.1464 - accuracy: 0.9655 - val_loss: 0.3498 - val_accuracy: 0.8134\n",
      "Epoch 18/50\n",
      "13/13 [==============================] - 129s 10s/step - loss: 0.1251 - accuracy: 0.9595 - val_loss: 0.2512 - val_accuracy: 0.8881\n",
      "Epoch 19/50\n",
      "13/13 [==============================] - 130s 10s/step - loss: 0.1467 - accuracy: 0.9638 - val_loss: 0.6165 - val_accuracy: 0.7015\n",
      "Epoch 20/50\n",
      "13/13 [==============================] - 119s 9s/step - loss: 0.1512 - accuracy: 0.9504 - val_loss: 0.2750 - val_accuracy: 0.8731\n",
      "Epoch 21/50\n",
      "13/13 [==============================] - 118s 9s/step - loss: 0.2020 - accuracy: 0.9056 - val_loss: 0.2712 - val_accuracy: 0.9104\n",
      "Epoch 22/50\n",
      "13/13 [==============================] - 118s 9s/step - loss: 0.1414 - accuracy: 0.9506 - val_loss: 0.2625 - val_accuracy: 0.9030\n",
      "Epoch 23/50\n",
      "13/13 [==============================] - 118s 9s/step - loss: 0.1137 - accuracy: 0.9593 - val_loss: 0.2296 - val_accuracy: 0.9328\n",
      "Epoch 24/50\n",
      "13/13 [==============================] - 119s 9s/step - loss: 0.1266 - accuracy: 0.9764 - val_loss: 0.2349 - val_accuracy: 0.9104\n",
      "Epoch 25/50\n",
      "13/13 [==============================] - 122s 10s/step - loss: 0.1403 - accuracy: 0.9614 - val_loss: 0.4706 - val_accuracy: 0.7463\n",
      "Epoch 26/50\n",
      "13/13 [==============================] - 119s 9s/step - loss: 0.1690 - accuracy: 0.9304 - val_loss: 0.2123 - val_accuracy: 0.9254\n",
      "Epoch 27/50\n",
      "13/13 [==============================] - 118s 9s/step - loss: 0.1135 - accuracy: 0.9596 - val_loss: 0.2184 - val_accuracy: 0.9254\n",
      "Epoch 28/50\n",
      "13/13 [==============================] - 124s 10s/step - loss: 0.1111 - accuracy: 0.9656 - val_loss: 0.2067 - val_accuracy: 0.9403\n",
      "Epoch 29/50\n",
      "13/13 [==============================] - 124s 10s/step - loss: 0.1140 - accuracy: 0.9737 - val_loss: 0.2254 - val_accuracy: 0.9254\n",
      "Epoch 30/50\n",
      "13/13 [==============================] - 119s 9s/step - loss: 0.0908 - accuracy: 0.9789 - val_loss: 0.2120 - val_accuracy: 0.9328\n",
      "Epoch 31/50\n",
      "13/13 [==============================] - 119s 9s/step - loss: 0.1345 - accuracy: 0.9685 - val_loss: 0.1990 - val_accuracy: 0.9254\n",
      "Epoch 32/50\n",
      "13/13 [==============================] - 119s 9s/step - loss: 0.1125 - accuracy: 0.9687 - val_loss: 0.4108 - val_accuracy: 0.7836\n",
      "Epoch 33/50\n",
      "13/13 [==============================] - 120s 9s/step - loss: 0.1373 - accuracy: 0.9383 - val_loss: 0.1881 - val_accuracy: 0.9403\n",
      "Epoch 34/50\n",
      "13/13 [==============================] - 120s 9s/step - loss: 0.0851 - accuracy: 0.9827 - val_loss: 0.2044 - val_accuracy: 0.9179\n",
      "Epoch 35/50\n",
      "13/13 [==============================] - 121s 9s/step - loss: 0.0809 - accuracy: 0.9719 - val_loss: 0.1802 - val_accuracy: 0.9403\n",
      "Epoch 36/50\n",
      "13/13 [==============================] - 120s 9s/step - loss: 0.1122 - accuracy: 0.9557 - val_loss: 0.3592 - val_accuracy: 0.8284\n",
      "Epoch 37/50\n",
      "13/13 [==============================] - 121s 9s/step - loss: 0.0929 - accuracy: 0.9671 - val_loss: 0.1782 - val_accuracy: 0.9328\n",
      "Epoch 38/50\n",
      "13/13 [==============================] - 123s 10s/step - loss: 0.0972 - accuracy: 0.9697 - val_loss: 0.1885 - val_accuracy: 0.9179\n",
      "Epoch 39/50\n",
      "13/13 [==============================] - 122s 10s/step - loss: 0.0743 - accuracy: 0.9850 - val_loss: 0.1710 - val_accuracy: 0.9403\n",
      "Epoch 40/50\n",
      "13/13 [==============================] - 121s 9s/step - loss: 0.0846 - accuracy: 0.9833 - val_loss: 0.2865 - val_accuracy: 0.8731\n",
      "Epoch 41/50\n",
      "13/13 [==============================] - 127s 10s/step - loss: 0.0676 - accuracy: 0.9835 - val_loss: 0.3212 - val_accuracy: 0.8358\n",
      "Epoch 42/50\n",
      "13/13 [==============================] - 123s 10s/step - loss: 0.1020 - accuracy: 0.9591 - val_loss: 0.1727 - val_accuracy: 0.9328\n",
      "Epoch 43/50\n",
      "13/13 [==============================] - 162s 13s/step - loss: 0.0926 - accuracy: 0.9672 - val_loss: 0.2025 - val_accuracy: 0.9254\n",
      "Epoch 44/50\n",
      "13/13 [==============================] - 120s 9s/step - loss: 0.1009 - accuracy: 0.9567 - val_loss: 0.2004 - val_accuracy: 0.9254\n",
      "Epoch 45/50\n",
      "13/13 [==============================] - 134s 11s/step - loss: 0.0811 - accuracy: 0.9715 - val_loss: 0.1721 - val_accuracy: 0.9254\n",
      "Epoch 46/50\n",
      "13/13 [==============================] - 129s 10s/step - loss: 0.0865 - accuracy: 0.9828 - val_loss: 0.2308 - val_accuracy: 0.9254\n",
      "Epoch 47/50\n",
      "13/13 [==============================] - 129s 10s/step - loss: 0.0684 - accuracy: 0.9695 - val_loss: 0.1638 - val_accuracy: 0.9478\n",
      "Epoch 48/50\n",
      "13/13 [==============================] - 129s 10s/step - loss: 0.0647 - accuracy: 0.9884 - val_loss: 0.4163 - val_accuracy: 0.7985\n",
      "Epoch 49/50\n",
      "13/13 [==============================] - 136s 11s/step - loss: 0.1214 - accuracy: 0.9545 - val_loss: 0.2539 - val_accuracy: 0.8955\n",
      "Epoch 50/50\n",
      "13/13 [==============================] - 133s 10s/step - loss: 0.0585 - accuracy: 0.9919 - val_loss: 0.2005 - val_accuracy: 0.9179\n"
     ]
    }
   ],
   "source": [
    "# fit the model\n",
    "\n",
    "r = model.fit_generator(\n",
    "  training_set,\n",
    "  validation_data=test_set,\n",
    "  epochs=50,\n",
    "  steps_per_epoch=len(training_set),\n",
    "  validation_steps=len(test_set)\n",
    ")"
   ]
  },
  {
   "cell_type": "code",
   "execution_count": 17,
   "id": "6e9a601a",
   "metadata": {},
   "outputs": [
    {
     "data": {
      "image/png": "[encoded data removed]",
      "text/plain": [
       "<Figure size 432x288 with 1 Axes>"
      ]
     },
     "metadata": {
      "needs_background": "light"
     },
     "output_type": "display_data"
    },
    {
     "data": {
      "image/png": "[encoded data removed]",
      "text/plain": [
       "<Figure size 432x288 with 1 Axes>"
      ]
     },
     "metadata": {
      "needs_background": "light"
     },
     "output_type": "display_data"
    },
    {
     "data": {
      "text/plain": [
       "<Figure size 432x288 with 0 Axes>"
      ]
     },
     "metadata": {},
     "output_type": "display_data"
    }
   ],
   "source": [
    "# plot the loss\n",
    "plt.plot(r.history['loss'], label='train loss')\n",
    "plt.plot(r.history['val_loss'], label='val loss')\n",
    "plt.legend()\n",
    "plt.show()\n",
    "plt.savefig('LossVal_loss')\n",
    "\n",
    "# plot the accuracy\n",
    "plt.plot(r.history['accuracy'], label='train acc')\n",
    "plt.plot(r.history['val_accuracy'], label='val acc')\n",
    "plt.legend()\n",
    "plt.show()\n",
    "plt.savefig('AccVal_acc')"
   ]
  },
  {
   "cell_type": "code",
   "execution_count": 18,
   "id": "54d47230",
   "metadata": {},
   "outputs": [
    {
     "name": "stdout",
     "output_type": "stream",
     "text": [
      "INFO:tensorflow:Assets written to: model_vgg19.h50/assets\n"
     ]
    }
   ],
   "source": [
    "# save it as a h5 file\n",
    "\n",
    "\n",
    "from tensorflow.keras.models import load_model\n",
    "\n",
    "model.save('model_vgg19.h50')\n"
   ]
  },
  {
   "cell_type": "code",
   "execution_count": 20,
   "id": "16f0ed4f",
   "metadata": {},
   "outputs": [
    {
     "data": {
      "text/plain": [
       "array([[2.93950923e-02, 9.70604897e-01],\n",
       "       [7.50536859e-01, 2.49463171e-01],\n",
       "       [5.51689463e-03, 9.94483054e-01],\n",
       "       [9.99996662e-01, 3.33784510e-06],\n",
       "       [9.99913573e-01, 8.64124158e-05],\n",
       "       [6.95885479e-01, 3.04114491e-01],\n",
       "       [9.99800265e-01, 1.99756760e-04],\n",
       "       [1.71765946e-02, 9.82823372e-01],\n",
       "       [9.40940753e-02, 9.05905902e-01],\n",
       "       [9.99984980e-01, 1.49718253e-05],\n",
       "       [3.07576843e-02, 9.69242334e-01],\n",
       "       [1.39524555e-02, 9.86047506e-01],\n",
       "       [1.97609086e-02, 9.80239093e-01],\n",
       "       [6.16360486e-01, 3.83639514e-01],\n",
       "       [9.99999523e-01, 4.31149374e-07],\n",
       "       [1.93239469e-02, 9.80676055e-01],\n",
       "       [7.62248158e-01, 2.37751842e-01],\n",
       "       [4.09553200e-02, 9.59044635e-01],\n",
       "       [5.39805219e-02, 9.46019471e-01],\n",
       "       [3.35130878e-02, 9.66486931e-01],\n",
       "       [1.33021161e-01, 8.66978824e-01],\n",
       "       [9.93880153e-01, 6.11988362e-03],\n",
       "       [1.66542828e-02, 9.83345747e-01],\n",
       "       [8.25681329e-01, 1.74318671e-01],\n",
       "       [9.98952508e-01, 1.04741496e-03],\n",
       "       [9.98765707e-01, 1.23431289e-03],\n",
       "       [2.46293433e-02, 9.75370646e-01],\n",
       "       [4.60988462e-01, 5.39011598e-01],\n",
       "       [9.52548623e-01, 4.74513657e-02],\n",
       "       [8.06409940e-02, 9.19359028e-01],\n",
       "       [5.87271392e-01, 4.12728578e-01],\n",
       "       [8.05510104e-01, 1.94489926e-01],\n",
       "       [5.92808649e-02, 9.40719128e-01],\n",
       "       [4.61118221e-02, 9.53888178e-01],\n",
       "       [9.80127215e-01, 1.98727697e-02],\n",
       "       [4.04103845e-02, 9.59589660e-01],\n",
       "       [9.81886744e-01, 1.81132685e-02],\n",
       "       [2.68228859e-01, 7.31771052e-01],\n",
       "       [9.99938250e-01, 6.17961123e-05],\n",
       "       [1.80190764e-02, 9.81980860e-01],\n",
       "       [4.90777910e-01, 5.09222090e-01],\n",
       "       [2.52972037e-01, 7.47027993e-01],\n",
       "       [9.26463664e-01, 7.35362917e-02],\n",
       "       [9.99998927e-01, 1.07251162e-06],\n",
       "       [9.29074466e-01, 7.09255636e-02],\n",
       "       [7.64799640e-02, 9.23520088e-01],\n",
       "       [7.67021954e-01, 2.32977971e-01],\n",
       "       [8.90143663e-02, 9.10985649e-01],\n",
       "       [9.99491930e-01, 5.08063298e-04],\n",
       "       [9.97170031e-01, 2.83000688e-03],\n",
       "       [3.14171202e-02, 9.68582928e-01],\n",
       "       [4.55907024e-02, 9.54409301e-01],\n",
       "       [9.98572588e-01, 1.42735301e-03],\n",
       "       [9.99974132e-01, 2.58468390e-05],\n",
       "       [6.43923700e-01, 3.56076241e-01],\n",
       "       [9.99992132e-01, 7.90403828e-06],\n",
       "       [7.32286833e-03, 9.92677093e-01],\n",
       "       [9.49613035e-01, 5.03869317e-02],\n",
       "       [1.01863511e-01, 8.98136437e-01],\n",
       "       [9.99997258e-01, 2.74817921e-06],\n",
       "       [8.81958604e-01, 1.18041389e-01],\n",
       "       [9.99408722e-01, 5.91339718e-04],\n",
       "       [7.05807030e-01, 2.94193000e-01],\n",
       "       [9.68569696e-01, 3.14302444e-02],\n",
       "       [9.94610906e-01, 5.38910506e-03],\n",
       "       [9.93164122e-01, 6.83584157e-03],\n",
       "       [9.98666644e-01, 1.33341888e-03],\n",
       "       [8.00868869e-01, 1.99131146e-01],\n",
       "       [5.43894708e-01, 4.56105262e-01],\n",
       "       [9.96611536e-01, 3.38840927e-03],\n",
       "       [8.28811049e-01, 1.71188906e-01],\n",
       "       [9.99884367e-01, 1.15583571e-04],\n",
       "       [1.33055393e-02, 9.86694455e-01],\n",
       "       [5.90061367e-01, 4.09938633e-01],\n",
       "       [9.99932408e-01, 6.76411946e-05],\n",
       "       [8.33960474e-01, 1.66039571e-01],\n",
       "       [8.17486286e-01, 1.82513684e-01],\n",
       "       [9.99426842e-01, 5.73130499e-04],\n",
       "       [6.51981592e-01, 3.48018378e-01],\n",
       "       [2.11295430e-02, 9.78870511e-01],\n",
       "       [9.99857545e-01, 1.42484161e-04],\n",
       "       [1.00000000e+00, 4.96997909e-09],\n",
       "       [1.00000000e+00, 6.76649137e-09],\n",
       "       [8.57255340e-01, 1.42744675e-01],\n",
       "       [9.99977112e-01, 2.28637255e-05],\n",
       "       [1.63435787e-01, 8.36564243e-01],\n",
       "       [7.75559962e-01, 2.24440038e-01],\n",
       "       [9.99939561e-01, 6.04441193e-05],\n",
       "       [3.20315927e-01, 6.79684103e-01],\n",
       "       [1.72933802e-01, 8.27066183e-01],\n",
       "       [9.25624609e-01, 7.43753687e-02],\n",
       "       [9.97723043e-01, 2.27692863e-03],\n",
       "       [1.11817002e-01, 8.88182998e-01],\n",
       "       [2.82061752e-02, 9.71793830e-01],\n",
       "       [9.82638597e-01, 1.73614398e-02],\n",
       "       [5.48053831e-02, 9.45194602e-01],\n",
       "       [9.45803761e-01, 5.41962087e-02],\n",
       "       [1.32960146e-02, 9.86703992e-01],\n",
       "       [8.99889290e-01, 1.00110732e-01],\n",
       "       [4.59547080e-02, 9.54045236e-01],\n",
       "       [9.99937057e-01, 6.28995767e-05],\n",
       "       [9.27762926e-01, 7.22370595e-02],\n",
       "       [9.96414006e-01, 3.58596980e-03],\n",
       "       [3.56097400e-01, 6.43902600e-01],\n",
       "       [9.67871606e-01, 3.21283601e-02],\n",
       "       [9.10144091e-01, 8.98558646e-02],\n",
       "       [8.58429909e-01, 1.41570032e-01],\n",
       "       [9.99606431e-01, 3.93609749e-04],\n",
       "       [9.93486226e-01, 6.51379768e-03],\n",
       "       [9.99839425e-01, 1.60585012e-04],\n",
       "       [9.38920438e-01, 6.10796325e-02],\n",
       "       [9.58101869e-01, 4.18981127e-02],\n",
       "       [9.99878407e-01, 1.21603567e-04],\n",
       "       [1.31503403e-01, 8.68496597e-01],\n",
       "       [9.99580085e-01, 4.19972464e-04],\n",
       "       [3.93213853e-02, 9.60678577e-01],\n",
       "       [9.99791324e-01, 2.08654950e-04],\n",
       "       [9.99736845e-01, 2.63195194e-04],\n",
       "       [2.26050094e-01, 7.73949921e-01],\n",
       "       [9.15900767e-02, 9.08409953e-01],\n",
       "       [8.30706775e-01, 1.69293225e-01],\n",
       "       [9.91637886e-01, 8.36207066e-03],\n",
       "       [8.91323268e-01, 1.08676665e-01],\n",
       "       [9.97794509e-01, 2.20548129e-03],\n",
       "       [9.84256566e-01, 1.57433953e-02],\n",
       "       [9.99859571e-01, 1.40375661e-04],\n",
       "       [2.97685508e-02, 9.70231533e-01],\n",
       "       [8.18851069e-02, 9.18114841e-01],\n",
       "       [7.59722814e-02, 9.24027681e-01],\n",
       "       [2.44138371e-02, 9.75586176e-01],\n",
       "       [2.56565869e-01, 7.43434191e-01],\n",
       "       [9.99892831e-01, 1.07136031e-04],\n",
       "       [7.60349393e-01, 2.39650548e-01],\n",
       "       [1.48004651e-01, 8.51995349e-01]], dtype=float32)"
      ]
     },
     "execution_count": 20,
     "metadata": {},
     "output_type": "execute_result"
    }
   ],
   "source": [
    "y_pred = model.predict(test_set)\n",
    "\n",
    "y_pred"
   ]
  },
  {
   "cell_type": "code",
   "execution_count": 21,
   "id": "fd34ac2d",
   "metadata": {},
   "outputs": [],
   "source": [
    "import numpy as np\n",
    "y_pred = np.argmax(y_pred, axis=1)"
   ]
  },
  {
   "cell_type": "code",
   "execution_count": 22,
   "id": "2a4997f7",
   "metadata": {},
   "outputs": [
    {
     "data": {
      "text/plain": [
       "array([1, 0, 1, 0, 0, 0, 0, 1, 1, 0, 1, 1, 1, 0, 0, 1, 0, 1, 1, 1, 1, 0,\n",
       "       1, 0, 0, 0, 1, 1, 0, 1, 0, 0, 1, 1, 0, 1, 0, 1, 0, 1, 1, 1, 0, 0,\n",
       "       0, 1, 0, 1, 0, 0, 1, 1, 0, 0, 0, 0, 1, 0, 1, 0, 0, 0, 0, 0, 0, 0,\n",
       "       0, 0, 0, 0, 0, 0, 1, 0, 0, 0, 0, 0, 0, 1, 0, 0, 0, 0, 0, 1, 0, 0,\n",
       "       1, 1, 0, 0, 1, 1, 0, 1, 0, 1, 0, 1, 0, 0, 0, 1, 0, 0, 0, 0, 0, 0,\n",
       "       0, 0, 0, 1, 0, 1, 0, 0, 1, 1, 0, 0, 0, 0, 0, 0, 1, 1, 1, 1, 1, 0,\n",
       "       0, 1])"
      ]
     },
     "execution_count": 22,
     "metadata": {},
     "output_type": "execute_result"
    }
   ],
   "source": [
    "y_pred"
   ]
  },
  {
   "cell_type": "code",
   "execution_count": 23,
   "id": "dd1d0e99",
   "metadata": {},
   "outputs": [],
   "source": [
    "from tensorflow.keras.models import load_model\n",
    "from tensorflow.keras.preprocessing import image"
   ]
  },
  {
   "cell_type": "code",
   "execution_count": 24,
   "id": "c3ecfdb2",
   "metadata": {},
   "outputs": [],
   "source": [
    "img=image.load_img('Dataset/Test/Uninfected/2.png',target_size=(224,224))\n",
    "\n"
   ]
  },
  {
   "cell_type": "code",
   "execution_count": 25,
   "id": "75d919ab",
   "metadata": {},
   "outputs": [
    {
     "data": {
      "text/plain": [
       "array([[[0., 0., 0.],\n",
       "        [0., 0., 0.],\n",
       "        [0., 0., 0.],\n",
       "        ...,\n",
       "        [0., 0., 0.],\n",
       "        [0., 0., 0.],\n",
       "        [0., 0., 0.]],\n",
       "\n",
       "       [[0., 0., 0.],\n",
       "        [0., 0., 0.],\n",
       "        [0., 0., 0.],\n",
       "        ...,\n",
       "        [0., 0., 0.],\n",
       "        [0., 0., 0.],\n",
       "        [0., 0., 0.]],\n",
       "\n",
       "       [[0., 0., 0.],\n",
       "        [0., 0., 0.],\n",
       "        [0., 0., 0.],\n",
       "        ...,\n",
       "        [0., 0., 0.],\n",
       "        [0., 0., 0.],\n",
       "        [0., 0., 0.]],\n",
       "\n",
       "       ...,\n",
       "\n",
       "       [[0., 0., 0.],\n",
       "        [0., 0., 0.],\n",
       "        [0., 0., 0.],\n",
       "        ...,\n",
       "        [0., 0., 0.],\n",
       "        [0., 0., 0.],\n",
       "        [0., 0., 0.]],\n",
       "\n",
       "       [[0., 0., 0.],\n",
       "        [0., 0., 0.],\n",
       "        [0., 0., 0.],\n",
       "        ...,\n",
       "        [0., 0., 0.],\n",
       "        [0., 0., 0.],\n",
       "        [0., 0., 0.]],\n",
       "\n",
       "       [[0., 0., 0.],\n",
       "        [0., 0., 0.],\n",
       "        [0., 0., 0.],\n",
       "        ...,\n",
       "        [0., 0., 0.],\n",
       "        [0., 0., 0.],\n",
       "        [0., 0., 0.]]], dtype=float32)"
      ]
     },
     "execution_count": 25,
     "metadata": {},
     "output_type": "execute_result"
    }
   ],
   "source": [
    "x=image.img_to_array(img)\n",
    "x"
   ]
  },
  {
   "cell_type": "code",
   "execution_count": 26,
   "id": "aa009e11",
   "metadata": {},
   "outputs": [
    {
     "data": {
      "text/plain": [
       "(224, 224, 3)"
      ]
     },
     "execution_count": 26,
     "metadata": {},
     "output_type": "execute_result"
    }
   ],
   "source": [
    "x.shape"
   ]
  },
  {
   "cell_type": "code",
   "execution_count": 27,
   "id": "72705d7f",
   "metadata": {},
   "outputs": [],
   "source": [
    "x=x/255"
   ]
  },
  {
   "cell_type": "code",
   "execution_count": 28,
   "id": "208ef7a0",
   "metadata": {},
   "outputs": [
    {
     "data": {
      "text/plain": [
       "(1, 224, 224, 3)"
      ]
     },
     "execution_count": 28,
     "metadata": {},
     "output_type": "execute_result"
    }
   ],
   "source": [
    "x=np.expand_dims(x,axis=0)\n",
    "img_data=preprocess_input(x)\n",
    "img_data.shape"
   ]
  },
  {
   "cell_type": "code",
   "execution_count": 29,
   "id": "5b6300cd",
   "metadata": {},
   "outputs": [
    {
     "data": {
      "text/plain": [
       "array([[0.03067949, 0.9693205 ]], dtype=float32)"
      ]
     },
     "execution_count": 29,
     "metadata": {},
     "output_type": "execute_result"
    }
   ],
   "source": [
    "model.predict(img_data)"
   ]
  },
  {
   "cell_type": "code",
   "execution_count": 30,
   "id": "f6d8bcac",
   "metadata": {},
   "outputs": [],
   "source": [
    "a=np.argmax(model.predict(img_data), axis=1)"
   ]
  },
  {
   "cell_type": "code",
   "execution_count": 31,
   "id": "b287fe44",
   "metadata": {},
   "outputs": [
    {
     "name": "stdout",
     "output_type": "stream",
     "text": [
      "Uninfected\n"
     ]
    }
   ],
   "source": [
    "if(a==1):\n",
    "    print(\"Uninfected\")\n",
    "else:\n",
    "    print(\"Infected\")"
   ]
  }
 ],
 "metadata": {
  "kernelspec": {
   "display_name": "Python 3",
   "language": "python",
   "name": "python3"
  },
  "language_info": {
   "codemirror_mode": {
    "name": "ipython",
    "version": 3
   },
   "file_extension": ".py",
   "mimetype": "text/x-python",
   "name": "python",
   "nbconvert_exporter": "python",
   "pygments_lexer": "ipython3",
   "version": "3.8.8"
  }
 },
 "nbformat": 4,
 "nbformat_minor": 5
}
